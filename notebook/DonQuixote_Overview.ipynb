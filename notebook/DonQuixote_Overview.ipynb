{
 "cells": [
  {
   "cell_type": "markdown",
   "metadata": {},
   "source": [
    "# 1. Don Quixote "
   ]
  },
  {
   "cell_type": "markdown",
   "metadata": {},
   "source": [
    "## Review"
   ]
  },
  {
   "cell_type": "markdown",
   "metadata": {},
   "source": [
    "https://en.wikipedia.org/wiki/Don_Quixote"
   ]
  },
  {
   "cell_type": "markdown",
   "metadata": {},
   "source": [
    "## Hypothesis, questions..."
   ]
  },
  {
   "cell_type": "markdown",
   "metadata": {},
   "source": [
    "Otra parte en la que comentas ideas a testar, que trabajas y comentas en el apartado \"Quixote Analysis\" y se da respuesta resumida (a estas preguntas, a modo resumen que no necesitas leer el análisis) en el último apartado \"Quixote Take Home Messages\""
   ]
  },
  {
   "cell_type": "markdown",
   "metadata": {},
   "source": [
    "*¿Podemos* resumir el corpus de cada capítulo con y junto con el título entender que ocurre?"
   ]
  },
  {
   "cell_type": "markdown",
   "metadata": {},
   "source": [
    "# 2. Quixote Analysis"
   ]
  },
  {
   "cell_type": "markdown",
   "metadata": {},
   "source": [
    "## Directory & Libraries"
   ]
  },
  {
   "cell_type": "code",
   "execution_count": 40,
   "metadata": {},
   "outputs": [],
   "source": [
    "import os\n",
    "import pandas as pd\n",
    "import numpy as np\n",
    "import matplotlib.pyplot as plt\n",
    "from sklearn.feature_extraction.text import TfidfVectorizer\n",
    "from sklearn.feature_extraction.text import CountVectorizer\n",
    "\n",
    "\n",
    "os.chdir(os.path.abspath(os.path.join('..')))\n",
    "from src.data.quixote_text import QX_Text"
   ]
  },
  {
   "cell_type": "markdown",
   "metadata": {},
   "source": [
    "## Get data"
   ]
  },
  {
   "cell_type": "code",
   "execution_count": 7,
   "metadata": {},
   "outputs": [],
   "source": [
    "qx_text = QX_Text()\n",
    "dict_quixote, dataframe_quixote = qx_text.process_raw_quixote(part_list=[1,2], \n",
    "                                                              lower=False, \n",
    "                                                              keep_escape_character=False)"
   ]
  },
  {
   "cell_type": "code",
   "execution_count": 8,
   "metadata": {},
   "outputs": [
    {
     "name": "stdout",
     "output_type": "stream",
     "text": [
      "(126, 4)\n"
     ]
    }
   ],
   "source": [
    "print(dataframe_quixote.shape)"
   ]
  },
  {
   "cell_type": "code",
   "execution_count": 9,
   "metadata": {},
   "outputs": [
    {
     "data": {
      "text/html": [
       "<div>\n",
       "<style scoped>\n",
       "    .dataframe tbody tr th:only-of-type {\n",
       "        vertical-align: middle;\n",
       "    }\n",
       "\n",
       "    .dataframe tbody tr th {\n",
       "        vertical-align: top;\n",
       "    }\n",
       "\n",
       "    .dataframe thead th {\n",
       "        text-align: right;\n",
       "    }\n",
       "</style>\n",
       "<table border=\"1\" class=\"dataframe\">\n",
       "  <thead>\n",
       "    <tr style=\"text-align: right;\">\n",
       "      <th></th>\n",
       "      <th>Part</th>\n",
       "      <th>ChapterNumber</th>\n",
       "      <th>ChapterName</th>\n",
       "      <th>ChapterCorpus</th>\n",
       "    </tr>\n",
       "  </thead>\n",
       "  <tbody>\n",
       "    <tr>\n",
       "      <th>FirstPart_ChapterNumber_1</th>\n",
       "      <td>1</td>\n",
       "      <td>1</td>\n",
       "      <td>Que trata de la condición y ejercicio del fam...</td>\n",
       "      <td>En un lugar de la Mancha, de cuyo nombre no qu...</td>\n",
       "    </tr>\n",
       "    <tr>\n",
       "      <th>FirstPart_ChapterNumber_2</th>\n",
       "      <td>1</td>\n",
       "      <td>2</td>\n",
       "      <td>Que trata de la primera salida que de su tierr...</td>\n",
       "      <td>Hechas, pues, estas prevenciones, no quiso agu...</td>\n",
       "    </tr>\n",
       "    <tr>\n",
       "      <th>FirstPart_ChapterNumber_3</th>\n",
       "      <td>1</td>\n",
       "      <td>3</td>\n",
       "      <td>Donde se cuenta la graciosa manera que tuvo D....</td>\n",
       "      <td>Y así, fatigado de este pensamiento, abrevió...</td>\n",
       "    </tr>\n",
       "    <tr>\n",
       "      <th>FirstPart_ChapterNumber_4</th>\n",
       "      <td>1</td>\n",
       "      <td>4</td>\n",
       "      <td>De lo que le sucedió a nuestro caballero cuan...</td>\n",
       "      <td>La del alba sería cuando Don Quijote salió d...</td>\n",
       "    </tr>\n",
       "    <tr>\n",
       "      <th>FirstPart_ChapterNumber_5</th>\n",
       "      <td>1</td>\n",
       "      <td>5</td>\n",
       "      <td>Donde se prosigue la narración de la desgraci...</td>\n",
       "      <td>Viendo, pues, que en efecto no podía menearse...</td>\n",
       "    </tr>\n",
       "    <tr>\n",
       "      <th>...</th>\n",
       "      <td>...</td>\n",
       "      <td>...</td>\n",
       "      <td>...</td>\n",
       "      <td>...</td>\n",
       "    </tr>\n",
       "    <tr>\n",
       "      <th>SecondPart_ChapterNumber_70</th>\n",
       "      <td>2</td>\n",
       "      <td>70</td>\n",
       "      <td>Que sigue al de sesenta y nueve, y trata de co...</td>\n",
       "      <td>Durmió Sancho aquella noche en una carriola, ...</td>\n",
       "    </tr>\n",
       "    <tr>\n",
       "      <th>SecondPart_ChapterNumber_71</th>\n",
       "      <td>2</td>\n",
       "      <td>71</td>\n",
       "      <td>De lo que a don Quijote le sucedió con su esc...</td>\n",
       "      <td>Iba el vencido y asendereado don Quijote pensa...</td>\n",
       "    </tr>\n",
       "    <tr>\n",
       "      <th>SecondPart_ChapterNumber_72</th>\n",
       "      <td>2</td>\n",
       "      <td>72</td>\n",
       "      <td>De cómo don Quijote y Sancho llegaron a su aldea</td>\n",
       "      <td>Todo aquel día, esperando la noche, estuviero...</td>\n",
       "    </tr>\n",
       "    <tr>\n",
       "      <th>SecondPart_ChapterNumber_73</th>\n",
       "      <td>2</td>\n",
       "      <td>73</td>\n",
       "      <td>De los agüeros que tuvo don Quijote al entrar...</td>\n",
       "      <td>A la entrada del cual, según dice Cide Hamete...</td>\n",
       "    </tr>\n",
       "    <tr>\n",
       "      <th>SecondPart_ChapterNumber_74</th>\n",
       "      <td>2</td>\n",
       "      <td>74</td>\n",
       "      <td>De cómo don Quijote cayó malo, y del testame...</td>\n",
       "      <td>Como las cosas humanas no sean eternas, yendo ...</td>\n",
       "    </tr>\n",
       "  </tbody>\n",
       "</table>\n",
       "<p>126 rows × 4 columns</p>\n",
       "</div>"
      ],
      "text/plain": [
       "                            Part ChapterNumber  \\\n",
       "FirstPart_ChapterNumber_1      1             1   \n",
       "FirstPart_ChapterNumber_2      1             2   \n",
       "FirstPart_ChapterNumber_3      1             3   \n",
       "FirstPart_ChapterNumber_4      1             4   \n",
       "FirstPart_ChapterNumber_5      1             5   \n",
       "...                          ...           ...   \n",
       "SecondPart_ChapterNumber_70    2            70   \n",
       "SecondPart_ChapterNumber_71    2            71   \n",
       "SecondPart_ChapterNumber_72    2            72   \n",
       "SecondPart_ChapterNumber_73    2            73   \n",
       "SecondPart_ChapterNumber_74    2            74   \n",
       "\n",
       "                                                                   ChapterName  \\\n",
       "FirstPart_ChapterNumber_1    Que trata de la condición y ejercicio del fam...   \n",
       "FirstPart_ChapterNumber_2    Que trata de la primera salida que de su tierr...   \n",
       "FirstPart_ChapterNumber_3    Donde se cuenta la graciosa manera que tuvo D....   \n",
       "FirstPart_ChapterNumber_4    De lo que le sucedió a nuestro caballero cuan...   \n",
       "FirstPart_ChapterNumber_5    Donde se prosigue la narración de la desgraci...   \n",
       "...                                                                        ...   \n",
       "SecondPart_ChapterNumber_70  Que sigue al de sesenta y nueve, y trata de co...   \n",
       "SecondPart_ChapterNumber_71  De lo que a don Quijote le sucedió con su esc...   \n",
       "SecondPart_ChapterNumber_72  De cómo don Quijote y Sancho llegaron a su aldea   \n",
       "SecondPart_ChapterNumber_73  De los agüeros que tuvo don Quijote al entrar...   \n",
       "SecondPart_ChapterNumber_74  De cómo don Quijote cayó malo, y del testame...   \n",
       "\n",
       "                                                                 ChapterCorpus  \n",
       "FirstPart_ChapterNumber_1    En un lugar de la Mancha, de cuyo nombre no qu...  \n",
       "FirstPart_ChapterNumber_2    Hechas, pues, estas prevenciones, no quiso agu...  \n",
       "FirstPart_ChapterNumber_3    Y así, fatigado de este pensamiento, abrevió...  \n",
       "FirstPart_ChapterNumber_4    La del alba sería cuando Don Quijote salió d...  \n",
       "FirstPart_ChapterNumber_5    Viendo, pues, que en efecto no podía menearse...  \n",
       "...                                                                        ...  \n",
       "SecondPart_ChapterNumber_70  Durmió Sancho aquella noche en una carriola, ...  \n",
       "SecondPart_ChapterNumber_71  Iba el vencido y asendereado don Quijote pensa...  \n",
       "SecondPart_ChapterNumber_72  Todo aquel día, esperando la noche, estuviero...  \n",
       "SecondPart_ChapterNumber_73  A la entrada del cual, según dice Cide Hamete...  \n",
       "SecondPart_ChapterNumber_74  Como las cosas humanas no sean eternas, yendo ...  \n",
       "\n",
       "[126 rows x 4 columns]"
      ]
     },
     "execution_count": 9,
     "metadata": {},
     "output_type": "execute_result"
    }
   ],
   "source": [
    "dataframe_quixote"
   ]
  },
  {
   "cell_type": "markdown",
   "metadata": {},
   "source": [
    "## Study corpus"
   ]
  },
  {
   "cell_type": "markdown",
   "metadata": {},
   "source": [
    "### Bag of Words"
   ]
  },
  {
   "cell_type": "code",
   "execution_count": 31,
   "metadata": {},
   "outputs": [
    {
     "name": "stdout",
     "output_type": "stream",
     "text": [
      "(126, 20331)\n"
     ]
    },
    {
     "data": {
      "text/html": [
       "<div>\n",
       "<style scoped>\n",
       "    .dataframe tbody tr th:only-of-type {\n",
       "        vertical-align: middle;\n",
       "    }\n",
       "\n",
       "    .dataframe tbody tr th {\n",
       "        vertical-align: top;\n",
       "    }\n",
       "\n",
       "    .dataframe thead th {\n",
       "        text-align: right;\n",
       "    }\n",
       "</style>\n",
       "<table border=\"1\" class=\"dataframe\">\n",
       "  <thead>\n",
       "    <tr style=\"text-align: right;\">\n",
       "      <th></th>\n",
       "      <th>16</th>\n",
       "      <th>1614</th>\n",
       "      <th>23</th>\n",
       "      <th>aa</th>\n",
       "      <th>aba</th>\n",
       "      <th>abad</th>\n",
       "      <th>abadejo</th>\n",
       "      <th>abades</th>\n",
       "      <th>abadesa</th>\n",
       "      <th>abaja</th>\n",
       "      <th>...</th>\n",
       "      <th>zorra</th>\n",
       "      <th>zorras</th>\n",
       "      <th>zorruna</th>\n",
       "      <th>zose</th>\n",
       "      <th>zuecos</th>\n",
       "      <th>zulema</th>\n",
       "      <th>zumban</th>\n",
       "      <th>zurdo</th>\n",
       "      <th>zurro</th>\n",
       "      <th>zuzaban</th>\n",
       "    </tr>\n",
       "  </thead>\n",
       "  <tbody>\n",
       "    <tr>\n",
       "      <th>0</th>\n",
       "      <td>0</td>\n",
       "      <td>0</td>\n",
       "      <td>0</td>\n",
       "      <td>0</td>\n",
       "      <td>0</td>\n",
       "      <td>0</td>\n",
       "      <td>0</td>\n",
       "      <td>0</td>\n",
       "      <td>0</td>\n",
       "      <td>0</td>\n",
       "      <td>...</td>\n",
       "      <td>0</td>\n",
       "      <td>0</td>\n",
       "      <td>0</td>\n",
       "      <td>0</td>\n",
       "      <td>0</td>\n",
       "      <td>0</td>\n",
       "      <td>0</td>\n",
       "      <td>0</td>\n",
       "      <td>0</td>\n",
       "      <td>0</td>\n",
       "    </tr>\n",
       "    <tr>\n",
       "      <th>1</th>\n",
       "      <td>0</td>\n",
       "      <td>0</td>\n",
       "      <td>0</td>\n",
       "      <td>0</td>\n",
       "      <td>0</td>\n",
       "      <td>0</td>\n",
       "      <td>2</td>\n",
       "      <td>0</td>\n",
       "      <td>0</td>\n",
       "      <td>0</td>\n",
       "      <td>...</td>\n",
       "      <td>0</td>\n",
       "      <td>0</td>\n",
       "      <td>0</td>\n",
       "      <td>0</td>\n",
       "      <td>0</td>\n",
       "      <td>0</td>\n",
       "      <td>0</td>\n",
       "      <td>0</td>\n",
       "      <td>0</td>\n",
       "      <td>0</td>\n",
       "    </tr>\n",
       "  </tbody>\n",
       "</table>\n",
       "<p>2 rows × 20331 columns</p>\n",
       "</div>"
      ],
      "text/plain": [
       "   16  1614  23  aa  aba  abad  abadejo  abades  abadesa  abaja  ...  zorra  \\\n",
       "0   0     0   0   0    0     0        0       0        0      0  ...      0   \n",
       "1   0     0   0   0    0     0        2       0        0      0  ...      0   \n",
       "\n",
       "   zorras  zorruna  zose  zuecos  zulema  zumban  zurdo  zurro  zuzaban  \n",
       "0       0        0     0       0       0       0      0      0        0  \n",
       "1       0        0     0       0       0       0      0      0        0  \n",
       "\n",
       "[2 rows x 20331 columns]"
      ]
     },
     "execution_count": 31,
     "metadata": {},
     "output_type": "execute_result"
    }
   ],
   "source": [
    "corpus = dataframe_quixote['ChapterCorpus']\n",
    "vectorizer = CountVectorizer()\n",
    "vectorizer.fit(corpus)\n",
    "quixote_bag_of_words = vectorizer.transform(corpus)\n",
    "word_list = vectorizer.get_feature_names()\n",
    "dataframe_quixote_bag_of_words = pd.DataFrame(quixote_bag_of_words.toarray(), columns=word_list)\n",
    "print(dataframe_quixote_bag_of_words.shape)\n",
    "dataframe_quixote_bag_of_words[0:2]"
   ]
  },
  {
   "cell_type": "code",
   "execution_count": 32,
   "metadata": {},
   "outputs": [],
   "source": [
    "dict_quixote_word_freq = dict(zip(word_list, quixote_bag_of_words.toarray().sum(axis=0)))"
   ]
  },
  {
   "cell_type": "markdown",
   "metadata": {},
   "source": [
    "### Word frequency"
   ]
  },
  {
   "cell_type": "code",
   "execution_count": 34,
   "metadata": {},
   "outputs": [
    {
     "name": "stdout",
     "output_type": "stream",
     "text": [
      "(20331, 3)\n"
     ]
    },
    {
     "data": {
      "text/html": [
       "<div>\n",
       "<style scoped>\n",
       "    .dataframe tbody tr th:only-of-type {\n",
       "        vertical-align: middle;\n",
       "    }\n",
       "\n",
       "    .dataframe tbody tr th {\n",
       "        vertical-align: top;\n",
       "    }\n",
       "\n",
       "    .dataframe thead th {\n",
       "        text-align: right;\n",
       "    }\n",
       "</style>\n",
       "<table border=\"1\" class=\"dataframe\">\n",
       "  <thead>\n",
       "    <tr style=\"text-align: right;\">\n",
       "      <th></th>\n",
       "      <th>word</th>\n",
       "      <th>wordcount</th>\n",
       "      <th>word_length</th>\n",
       "    </tr>\n",
       "  </thead>\n",
       "  <tbody>\n",
       "    <tr>\n",
       "      <th>0</th>\n",
       "      <td>que</td>\n",
       "      <td>20866</td>\n",
       "      <td>3</td>\n",
       "    </tr>\n",
       "    <tr>\n",
       "      <th>1</th>\n",
       "      <td>de</td>\n",
       "      <td>17891</td>\n",
       "      <td>2</td>\n",
       "    </tr>\n",
       "  </tbody>\n",
       "</table>\n",
       "</div>"
      ],
      "text/plain": [
       "  word  wordcount  word_length\n",
       "0  que      20866            3\n",
       "1   de      17891            2"
      ]
     },
     "execution_count": 34,
     "metadata": {},
     "output_type": "execute_result"
    }
   ],
   "source": [
    "dataframe_words_metrics = dataframe_quixote_bag_of_words.sum(axis=0).reset_index(False).sort_values(0, ascending=False).reset_index(drop=True)\n",
    "dataframe_words_metrics.columns = ['word', 'wordcount']\n",
    "dataframe_words_metrics['word_length'] = dataframe_words_metrics[\"word\"].str.len()\n",
    "print(dataframe_words_metrics.shape)\n",
    "dataframe_words_metrics[0:2]"
   ]
  },
  {
   "cell_type": "code",
   "execution_count": 37,
   "metadata": {},
   "outputs": [
    {
     "data": {
      "image/png": "[encoded data removed]",
      "text/plain": [
       "<Figure size 2016x360 with 1 Axes>"
      ]
     },
     "metadata": {},
     "output_type": "display_data"
    }
   ],
   "source": [
    "with plt.style.context('Solarize_Light2'):\n",
    "  plt.figure(figsize=(28,5))\n",
    "  plt.title(\"DON QUIXOTE WORDS COUNT\")\n",
    "  plt.plot(dataframe_words_metrics.index+1, dataframe_words_metrics.wordcount)\n",
    "  plt.xscale('log')\n",
    "  #plt.yscale('log')"
   ]
  },
  {
   "cell_type": "code",
   "execution_count": 38,
   "metadata": {},
   "outputs": [
    {
     "data": {
      "image/png": "[encoded data removed]",
      "text/plain": [
       "<Figure size 2016x360 with 1 Axes>"
      ]
     },
     "metadata": {},
     "output_type": "display_data"
    }
   ],
   "source": [
    "top_words = 50\n",
    "\n",
    "with plt.style.context('Solarize_Light2'):\n",
    "  plt.figure(figsize=(28,5))\n",
    "  plt.title(\"DON QUIXOTE TOP {top} WORDS\".format(top=top_words))\n",
    "  dataframe_words_metrics_top = dataframe_words_metrics[:top_words]\n",
    "  plt.bar(dataframe_words_metrics_top.word, dataframe_words_metrics_top.wordcount)"
   ]
  },
  {
   "cell_type": "markdown",
   "metadata": {},
   "source": [
    "### Zipf's law\n",
    "Rank-frequency plot for words in the novel Moby-Dick. About 44% of the distinct set of words in this novel, such as \"matrimonial\", occur only once, and so are hapax legomena (red). About 17%, such as \"dexterity\", appear twice (so-called dis legomena, in blue). Zipf's law predicts that the words in this plot should approximate a straight line with slope -1.\n",
    "https://en.wikipedia.org/wiki/Hapax_legomenon#:~:text=hapax%20legomena%3B%20sometimes%20abbreviated%20to,or%20in%20a%20single%20text."
   ]
  },
  {
   "cell_type": "code",
   "execution_count": 59,
   "metadata": {},
   "outputs": [
    {
     "data": {
      "text/html": [
       "<div>\n",
       "<style scoped>\n",
       "    .dataframe tbody tr th:only-of-type {\n",
       "        vertical-align: middle;\n",
       "    }\n",
       "\n",
       "    .dataframe tbody tr th {\n",
       "        vertical-align: top;\n",
       "    }\n",
       "\n",
       "    .dataframe thead th {\n",
       "        text-align: right;\n",
       "    }\n",
       "</style>\n",
       "<table border=\"1\" class=\"dataframe\">\n",
       "  <thead>\n",
       "    <tr style=\"text-align: right;\">\n",
       "      <th></th>\n",
       "      <th>wordcount</th>\n",
       "      <th>countfreq</th>\n",
       "      <th>countfreq_%</th>\n",
       "    </tr>\n",
       "  </thead>\n",
       "  <tbody>\n",
       "    <tr>\n",
       "      <th>0</th>\n",
       "      <td>1</td>\n",
       "      <td>9341</td>\n",
       "      <td>45.944617</td>\n",
       "    </tr>\n",
       "    <tr>\n",
       "      <th>1</th>\n",
       "      <td>2</td>\n",
       "      <td>3077</td>\n",
       "      <td>15.134524</td>\n",
       "    </tr>\n",
       "    <tr>\n",
       "      <th>2</th>\n",
       "      <td>3</td>\n",
       "      <td>1631</td>\n",
       "      <td>8.022232</td>\n",
       "    </tr>\n",
       "    <tr>\n",
       "      <th>3</th>\n",
       "      <td>4</td>\n",
       "      <td>1014</td>\n",
       "      <td>4.987458</td>\n",
       "    </tr>\n",
       "    <tr>\n",
       "      <th>4</th>\n",
       "      <td>5</td>\n",
       "      <td>721</td>\n",
       "      <td>3.546309</td>\n",
       "    </tr>\n",
       "    <tr>\n",
       "      <th>...</th>\n",
       "      <td>...</td>\n",
       "      <td>...</td>\n",
       "      <td>...</td>\n",
       "    </tr>\n",
       "    <tr>\n",
       "      <th>345</th>\n",
       "      <td>7958</td>\n",
       "      <td>1</td>\n",
       "      <td>0.004919</td>\n",
       "    </tr>\n",
       "    <tr>\n",
       "      <th>346</th>\n",
       "      <td>7975</td>\n",
       "      <td>1</td>\n",
       "      <td>0.004919</td>\n",
       "    </tr>\n",
       "    <tr>\n",
       "      <th>347</th>\n",
       "      <td>10140</td>\n",
       "      <td>1</td>\n",
       "      <td>0.004919</td>\n",
       "    </tr>\n",
       "    <tr>\n",
       "      <th>348</th>\n",
       "      <td>17891</td>\n",
       "      <td>1</td>\n",
       "      <td>0.004919</td>\n",
       "    </tr>\n",
       "    <tr>\n",
       "      <th>349</th>\n",
       "      <td>20866</td>\n",
       "      <td>1</td>\n",
       "      <td>0.004919</td>\n",
       "    </tr>\n",
       "  </tbody>\n",
       "</table>\n",
       "<p>350 rows × 3 columns</p>\n",
       "</div>"
      ],
      "text/plain": [
       "     wordcount  countfreq  countfreq_%\n",
       "0            1       9341    45.944617\n",
       "1            2       3077    15.134524\n",
       "2            3       1631     8.022232\n",
       "3            4       1014     4.987458\n",
       "4            5        721     3.546309\n",
       "..         ...        ...          ...\n",
       "345       7958          1     0.004919\n",
       "346       7975          1     0.004919\n",
       "347      10140          1     0.004919\n",
       "348      17891          1     0.004919\n",
       "349      20866          1     0.004919\n",
       "\n",
       "[350 rows x 3 columns]"
      ]
     },
     "execution_count": 59,
     "metadata": {},
     "output_type": "execute_result"
    }
   ],
   "source": [
    "dataframe_wordscount_countfreq = dataframe_quixote_bag_of_words.sum(axis=0).reset_index(False).sort_values(0, ascending=False).reset_index(drop=True)\n",
    "dataframe_wordscount_countfreq.columns = ['word', 'wordcount']\n",
    "dataframe_wordscount_countfreq['word_length'] = dataframe_wordscount_countfreq[\"word\"].str.len()\n",
    "\n",
    "dataframe_wordscount_countfreq = dataframe_wordscount_countfreq.groupby('wordcount').size().reset_index()\n",
    "dataframe_wordscount_countfreq.columns = ['wordcount', 'countfreq']\n",
    "dataframe_wordscount_countfreq['countfreq_%'] = 100*dataframe_wordscount_countfreq['countfreq']/dataframe_wordscount_countfreq['countfreq'].sum()\n",
    "dataframe_wordscount_countfreq"
   ]
  },
  {
   "cell_type": "code",
   "execution_count": 70,
   "metadata": {},
   "outputs": [
    {
     "data": {
      "image/png": "[encoded data removed]",
      "text/plain": [
       "<Figure size 2016x720 with 1 Axes>"
      ]
     },
     "metadata": {},
     "output_type": "display_data"
    }
   ],
   "source": [
    "with plt.style.context('Solarize_Light2'):\n",
    "  plt.figure(figsize=(28,10))\n",
    "  plt.scatter(x=dataframe_wordscount_countfreq['countfreq_%'], \n",
    "              y=dataframe_wordscount_countfreq['wordcount'], color='purple')\n",
    "  plt.title(\"DON QUIXOTE WORDS\")\n",
    "  plt.xlabel(\"Percentage %\", labelpad=20, color='darkcyan')\n",
    "  plt.ylabel(\"Count of Words\", labelpad=20, color='darkred')\n",
    "  ax = plt.gca()\n",
    "  ax.tick_params(axis='x', colors='darkcyan')\n",
    "  ax.tick_params(axis='y', colors='darkred')\n",
    "  #plt.xscale('log')\n",
    "  #plt.yscale('log')\n",
    "  plt.show()"
   ]
  },
  {
   "cell_type": "code",
   "execution_count": 78,
   "metadata": {},
   "outputs": [],
   "source": [
    "import collections\n",
    "\n",
    "\n",
    "def generate_zipf_table(text, top):\n",
    "\n",
    "    \"\"\"\n",
    "    Create a list of dictionaries containing the top\n",
    "    most frequent words, their frequencies and\n",
    "    other Zipfian data.\n",
    "    \"\"\"\n",
    "\n",
    "    text = _remove_punctuation(text)\n",
    "\n",
    "    text = text.lower()\n",
    "\n",
    "    top_word_frequencies = _top_word_frequencies(text, top)\n",
    "\n",
    "    zipf_table = _create_zipf_table(top_word_frequencies)\n",
    "\n",
    "    return zipf_table\n",
    "\n",
    "\n",
    "def _remove_punctuation(text):\n",
    "\n",
    "    \"\"\"\n",
    "    Removes the characters:\n",
    "    !\\\"#$%&'()*+,-./:;<=>?@[\\]^_`{|}~0123456789\n",
    "    from the text.\n",
    "    \"\"\"\n",
    "\n",
    "    chars_to_remove = \"!\\\"#$%&'()*+,-./:;<=>?@[\\]^_`{|}~0123456789\"\n",
    "\n",
    "    tr = str.maketrans(\"\", \"\", chars_to_remove)\n",
    "\n",
    "    return text.translate(tr)\n",
    "\n",
    "\n",
    "def _top_word_frequencies(text, top):\n",
    "\n",
    "    \"\"\"\n",
    "    Create a list of tuples containing the most\n",
    "    frequent words and their frequencies\n",
    "    in descending order.\n",
    "    \"\"\"\n",
    "\n",
    "    # With no argument, split() separates the string\n",
    "    # by 1 or more consecutive instances of whitespace.\n",
    "    words = text.split()\n",
    "\n",
    "    # Create a collections.Counter instance from an\n",
    "    # iterable, in this case our list of words.\n",
    "    word_frequencies = collections.Counter(words)\n",
    "\n",
    "    # most_common() gives us a list of tuples\n",
    "    # containing words and their frequencies,\n",
    "    # in descending order of frequency.\n",
    "    top_word_frequencies = word_frequencies.most_common(top)\n",
    "\n",
    "    return top_word_frequencies\n",
    "\n",
    "\n",
    "def _create_zipf_table(frequencies):\n",
    "\n",
    "    \"\"\"\n",
    "    Takes the list created by _top_word_frequencies\n",
    "    and inserts it into a list of dictionaries,\n",
    "    along with the Zipfian data.\n",
    "    \"\"\"\n",
    "\n",
    "    zipf_table = []\n",
    "\n",
    "    top_frequency = frequencies[0][1]\n",
    "\n",
    "    for index, item in enumerate(frequencies, start=1):\n",
    "\n",
    "        relative_frequency = \"1/{}\".format(index)\n",
    "        zipf_frequency = top_frequency * (1 / index)\n",
    "        difference_actual = item[1] - zipf_frequency\n",
    "        difference_percent = (item[1] / zipf_frequency) * 100\n",
    "\n",
    "        zipf_table.append({\"word\": item[0],\n",
    "                           \"actual_frequency\": item[1],\n",
    "                           \"relative_frequency\": relative_frequency,\n",
    "                           \"zipf_frequency\": zipf_frequency,\n",
    "                           \"difference_actual\": difference_actual,\n",
    "                           \"difference_percent\": difference_percent})\n",
    "\n",
    "    return zipf_table\n",
    "\n",
    "\n",
    "def print_zipf_table(zipf_table):\n",
    "\n",
    "    \"\"\"\n",
    "    Prints the list created by generate_zipf_table\n",
    "    in table format with column headings.\n",
    "    \"\"\"\n",
    "\n",
    "    width = 80\n",
    "\n",
    "    print(\"-\" * width)\n",
    "    print(\"|Rank|    Word    |Actual Freq | Zipf Frac  | Zipf Freq  |Actual Diff |Pct Diff|\")\n",
    "    print(\"-\" * width)\n",
    "\n",
    "    format_string = \"|{:4}|{:12}|{:12.0f}|{:>12}|{:12.2f}|{:12.2f}|{:7.2f}%|\"\n",
    "\n",
    "    for index, item in enumerate(zipf_table, start=1):\n",
    "\n",
    "        print(format_string.format(index,\n",
    "                                   item[\"word\"],\n",
    "                                   item[\"actual_frequency\"],\n",
    "                                   item[\"relative_frequency\"],\n",
    "                                   item[\"zipf_frequency\"],\n",
    "                                   item[\"difference_actual\"],\n",
    "                                   item[\"difference_percent\"]))\n",
    "\n",
    "    print(\"-\" * width)"
   ]
  },
  {
   "cell_type": "code",
   "execution_count": 77,
   "metadata": {},
   "outputs": [
    {
     "ename": "ModuleNotFoundError",
     "evalue": "No module named 'zipfslaw'",
     "output_type": "error",
     "traceback": [
      "\u001b[0;31m---------------------------------------------------------------------------\u001b[0m",
      "\u001b[0;31mModuleNotFoundError\u001b[0m                       Traceback (most recent call last)",
      "\u001b[0;32m<ipython-input-77-14463d27c953>\u001b[0m in \u001b[0;36m<module>\u001b[0;34m\u001b[0m\n\u001b[0;32m----> 1\u001b[0;31m \u001b[0;32mimport\u001b[0m \u001b[0mzipfslaw\u001b[0m\u001b[0;34m\u001b[0m\u001b[0;34m\u001b[0m\u001b[0m\n\u001b[0m\u001b[1;32m      2\u001b[0m \u001b[0mzipf_table\u001b[0m \u001b[0;34m=\u001b[0m \u001b[0mzipfslaw\u001b[0m\u001b[0;34m.\u001b[0m\u001b[0mgenerate_zipf_table\u001b[0m\u001b[0;34m(\u001b[0m\u001b[0mtext\u001b[0m\u001b[0;34m=\u001b[0m\u001b[0mdataframe_quixote\u001b[0m\u001b[0;34m[\u001b[0m\u001b[0;34m'ChapterCorpus'\u001b[0m\u001b[0;34m]\u001b[0m\u001b[0;34m,\u001b[0m \u001b[0mtop\u001b[0m\u001b[0;34m=\u001b[0m\u001b[0;36m135\u001b[0m\u001b[0;34m)\u001b[0m\u001b[0;34m\u001b[0m\u001b[0;34m\u001b[0m\u001b[0m\n\u001b[1;32m      3\u001b[0m \u001b[0mzipfslaw\u001b[0m\u001b[0;34m.\u001b[0m\u001b[0mprint_zipf_table\u001b[0m\u001b[0;34m(\u001b[0m\u001b[0mzipf_table\u001b[0m\u001b[0;34m)\u001b[0m\u001b[0;34m\u001b[0m\u001b[0;34m\u001b[0m\u001b[0m\n",
      "\u001b[0;31mModuleNotFoundError\u001b[0m: No module named 'zipfslaw'"
     ]
    }
   ],
   "source": [
    "zipf_table = zipfslaw.generate_zipf_table(text=dataframe_quixote['ChapterCorpus'], top=135)\n",
    "zipfslaw.print_zipf_table(zipf_table)"
   ]
  },
  {
   "cell_type": "code",
   "execution_count": 80,
   "metadata": {},
   "outputs": [],
   "source": [
    "import string\n",
    "import collections\n",
    "\n",
    "\n",
    "def count_words(f, clean_text=False):\n",
    "    \"\"\"\n",
    "    Count words in a file.\n",
    "\n",
    "    Arguments:\n",
    "        f: an open file handle\n",
    "        clean_text (optional): a Boolean, if true, filters out boilerplate\n",
    "            typical of a Gutenberg book.\n",
    "\n",
    "    Returns:\n",
    "        A dict keyed by word, with word counts\n",
    "    \"\"\"\n",
    "    text = f.read()\n",
    "    if clean_text:\n",
    "        text = _clean_gutenberg_text(text)\n",
    "\n",
    "    chunks = text.split()\n",
    "    npunc = [word.strip(string.punctuation) for word in chunks]\n",
    "    word_list = [word.lower() for word in npunc if word]\n",
    "    word_counts = collections.Counter(word_list)\n",
    "    return dict(word_counts)\n"
   ]
  },
  {
   "cell_type": "code",
   "execution_count": 81,
   "metadata": {},
   "outputs": [
    {
     "ename": "NameError",
     "evalue": "name 'argparse' is not defined",
     "output_type": "error",
     "traceback": [
      "\u001b[0;31m---------------------------------------------------------------------------\u001b[0m",
      "\u001b[0;31mNameError\u001b[0m                                 Traceback (most recent call last)",
      "\u001b[0;32m<ipython-input-81-f6580683085b>\u001b[0m in \u001b[0;36m<module>\u001b[0;34m\u001b[0m\n\u001b[1;32m      1\u001b[0m \u001b[0;32mif\u001b[0m \u001b[0m__name__\u001b[0m \u001b[0;34m==\u001b[0m \u001b[0;34m\"__main__\"\u001b[0m\u001b[0;34m:\u001b[0m\u001b[0;34m\u001b[0m\u001b[0;34m\u001b[0m\u001b[0m\n\u001b[0;32m----> 2\u001b[0;31m     \u001b[0mparser\u001b[0m \u001b[0;34m=\u001b[0m \u001b[0margparse\u001b[0m\u001b[0;34m.\u001b[0m\u001b[0mArgumentParser\u001b[0m\u001b[0;34m(\u001b[0m\u001b[0mdescription\u001b[0m\u001b[0;34m=\u001b[0m\u001b[0;34m\"Compute zipf distribution\"\u001b[0m\u001b[0;34m)\u001b[0m\u001b[0;34m\u001b[0m\u001b[0;34m\u001b[0m\u001b[0m\n\u001b[0m\u001b[1;32m      3\u001b[0m     \u001b[0mparser\u001b[0m\u001b[0;34m.\u001b[0m\u001b[0madd_argument\u001b[0m\u001b[0;34m(\u001b[0m\u001b[0;34m\"--in_folder\"\u001b[0m\u001b[0;34m,\u001b[0m \u001b[0mhelp\u001b[0m\u001b[0;34m=\u001b[0m\u001b[0;34m\"the input folder\"\u001b[0m\u001b[0;34m)\u001b[0m\u001b[0;34m\u001b[0m\u001b[0;34m\u001b[0m\u001b[0m\n\u001b[1;32m      4\u001b[0m     \u001b[0mparser\u001b[0m\u001b[0;34m.\u001b[0m\u001b[0madd_argument\u001b[0m\u001b[0;34m(\u001b[0m\u001b[0;34m\"--out_folder\"\u001b[0m\u001b[0;34m,\u001b[0m \u001b[0mhelp\u001b[0m\u001b[0;34m=\u001b[0m\u001b[0;34m\"the output folder\"\u001b[0m\u001b[0;34m)\u001b[0m\u001b[0;34m\u001b[0m\u001b[0;34m\u001b[0m\u001b[0m\n\u001b[1;32m      5\u001b[0m     \u001b[0margs\u001b[0m \u001b[0;34m=\u001b[0m \u001b[0mparser\u001b[0m\u001b[0;34m.\u001b[0m\u001b[0mparse_args\u001b[0m\u001b[0;34m(\u001b[0m\u001b[0;34m)\u001b[0m\u001b[0;34m\u001b[0m\u001b[0;34m\u001b[0m\u001b[0m\n",
      "\u001b[0;31mNameError\u001b[0m: name 'argparse' is not defined"
     ]
    }
   ],
   "source": [
    "if __name__ == \"__main__\":\n",
    "    parser = argparse.ArgumentParser(description=\"Compute zipf distribution\")\n",
    "    parser.add_argument(\"--in_folder\", help=\"the input folder\")\n",
    "    parser.add_argument(\"--out_folder\", help=\"the output folder\")\n",
    "    args = parser.parse_args()\n",
    "\n",
    "    main(args)"
   ]
  },
  {
   "cell_type": "markdown",
   "metadata": {},
   "source": [
    "### Word lenght"
   ]
  },
  {
   "cell_type": "code",
   "execution_count": 46,
   "metadata": {},
   "outputs": [
    {
     "data": {
      "image/png": "[encoded data removed]",
      "text/plain": [
       "<Figure size 2016x360 with 1 Axes>"
      ]
     },
     "metadata": {},
     "output_type": "display_data"
    }
   ],
   "source": [
    "with plt.style.context('Solarize_Light2'):\n",
    "  plt.figure(figsize=(28,5))\n",
    "  plt.title(\"HISTOGRAM DON QUIXOTE WORD LENGTH\")\n",
    "  max_word_length = max(dataframe_words_metrics.word_length)\n",
    "  dataframe_words_metrics.word_length.plot.hist(grid=True, bins=np.arange(0,max_word_length)+0, ec=\"k\")\n",
    "  #plt.xscale('log')\n",
    "  #plt.yscale('log')"
   ]
  },
  {
   "cell_type": "code",
   "execution_count": 45,
   "metadata": {},
   "outputs": [
    {
     "data": {
      "text/plain": [
       "array([ 0,  1,  2,  3,  4,  5,  6,  7,  8,  9, 10, 11, 12, 13, 14, 15, 16,\n",
       "       17, 18, 19, 20])"
      ]
     },
     "execution_count": 45,
     "metadata": {},
     "output_type": "execute_result"
    }
   ],
   "source": []
  },
  {
   "cell_type": "code",
   "execution_count": 58,
   "metadata": {},
   "outputs": [
    {
     "data": {
      "text/plain": [
       "word_length\n",
       "2      117\n",
       "3      367\n",
       "4     1254\n",
       "5     2461\n",
       "6     2836\n",
       "7     3568\n",
       "8     3454\n",
       "9     2553\n",
       "10    1863\n",
       "11     995\n",
       "12     486\n",
       "13     228\n",
       "14      88\n",
       "15      42\n",
       "16      15\n",
       "17       1\n",
       "18       1\n",
       "19       1\n",
       "21       1\n",
       "dtype: int64"
      ]
     },
     "execution_count": 58,
     "metadata": {},
     "output_type": "execute_result"
    }
   ],
   "source": [
    "dataframe_words_metrics.word_length.reset_index().groupby('word_length').size()"
   ]
  },
  {
   "cell_type": "code",
   "execution_count": null,
   "metadata": {},
   "outputs": [],
   "source": []
  }
 ],
 "metadata": {
  "kernelspec": {
   "display_name": "Python 3",
   "language": "python",
   "name": "python3"
  },
  "language_info": {
   "codemirror_mode": {
    "name": "ipython",
    "version": 3
   },
   "file_extension": ".py",
   "mimetype": "text/x-python",
   "name": "python",
   "nbconvert_exporter": "python",
   "pygments_lexer": "ipython3",
   "version": "3.8.5"
  }
 },
 "nbformat": 4,
 "nbformat_minor": 4
}
