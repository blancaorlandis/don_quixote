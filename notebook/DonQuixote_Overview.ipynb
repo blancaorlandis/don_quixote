{
 "cells": [
  {
   "cell_type": "markdown",
   "metadata": {},
   "source": [
    "# 1. Don Quixote "
   ]
  },
  {
   "cell_type": "markdown",
   "metadata": {},
   "source": [
    "## Review"
   ]
  },
  {
   "cell_type": "markdown",
   "metadata": {},
   "source": [
    "https://en.wikipedia.org/wiki/Don_Quixote"
   ]
  },
  {
   "cell_type": "markdown",
   "metadata": {},
   "source": [
    "## Hypothesis, questions..."
   ]
  },
  {
   "cell_type": "markdown",
   "metadata": {},
   "source": [
    "Otra parte en la que comentas ideas a testar, que trabajas y comentas en el apartado \"Quixote Analysis\" y se da respuesta resumida (a estas preguntas, a modo resumen que no necesitas leer el análisis) en el último apartado \"Quixote Take Home Messages\""
   ]
  },
  {
   "cell_type": "markdown",
   "metadata": {},
   "source": [
    "*¿Podemos* resumir el corpus de cada capítulo con y junto con el título entender que ocurre?"
   ]
  },
  {
   "cell_type": "markdown",
   "metadata": {},
   "source": [
    "# 2. Quixote Analysis"
   ]
  },
  {
   "cell_type": "markdown",
   "metadata": {},
   "source": [
    "## Libraries"
   ]
  },
  {
   "cell_type": "code",
   "execution_count": 341,
   "metadata": {},
   "outputs": [],
   "source": [
    "import src.data.quixote_text as qx_text"
   ]
  },
  {
   "cell_type": "markdown",
   "metadata": {},
   "source": [
    "## Get data"
   ]
  },
  {
   "cell_type": "code",
   "execution_count": 342,
   "metadata": {},
   "outputs": [],
   "source": [
    "qx_text = QX_Text()\n",
    "dict_quixote, dataframe_quixote = qx_text.process_raw_quixote(part_list=[1,2], \n",
    "                                                              lower=True, \n",
    "                                                              keep_escape_character=False)"
   ]
  },
  {
   "cell_type": "code",
   "execution_count": 343,
   "metadata": {},
   "outputs": [
    {
     "name": "stdout",
     "output_type": "stream",
     "text": [
      "(126, 4)\n"
     ]
    }
   ],
   "source": [
    "print(dataframe_quixote.shape)"
   ]
  },
  {
   "cell_type": "code",
   "execution_count": 344,
   "metadata": {},
   "outputs": [
    {
     "data": {
      "text/html": [
       "<div>\n",
       "<style scoped>\n",
       "    .dataframe tbody tr th:only-of-type {\n",
       "        vertical-align: middle;\n",
       "    }\n",
       "\n",
       "    .dataframe tbody tr th {\n",
       "        vertical-align: top;\n",
       "    }\n",
       "\n",
       "    .dataframe thead th {\n",
       "        text-align: right;\n",
       "    }\n",
       "</style>\n",
       "<table border=\"1\" class=\"dataframe\">\n",
       "  <thead>\n",
       "    <tr style=\"text-align: right;\">\n",
       "      <th></th>\n",
       "      <th>Part</th>\n",
       "      <th>ChapterNumber</th>\n",
       "      <th>ChapterName</th>\n",
       "      <th>ChapterCorpus</th>\n",
       "    </tr>\n",
       "  </thead>\n",
       "  <tbody>\n",
       "    <tr>\n",
       "      <th>FirstPart_ChapterNumber_1</th>\n",
       "      <td>1</td>\n",
       "      <td>1</td>\n",
       "      <td>que trata de la condición y ejercicio del fam...</td>\n",
       "      <td>en un lugar de la mancha, de cuyo nombre no qu...</td>\n",
       "    </tr>\n",
       "    <tr>\n",
       "      <th>FirstPart_ChapterNumber_2</th>\n",
       "      <td>1</td>\n",
       "      <td>2</td>\n",
       "      <td>que trata de la primera salida que de su tierr...</td>\n",
       "      <td>hechas, pues, estas prevenciones, no quiso agu...</td>\n",
       "    </tr>\n",
       "    <tr>\n",
       "      <th>FirstPart_ChapterNumber_3</th>\n",
       "      <td>1</td>\n",
       "      <td>3</td>\n",
       "      <td>donde se cuenta la graciosa manera que tuvo d....</td>\n",
       "      <td>y así, fatigado de este pensamiento, abrevió...</td>\n",
       "    </tr>\n",
       "    <tr>\n",
       "      <th>FirstPart_ChapterNumber_4</th>\n",
       "      <td>1</td>\n",
       "      <td>4</td>\n",
       "      <td>de lo que le sucedió a nuestro caballero cuan...</td>\n",
       "      <td>la del alba sería cuando don quijote salió d...</td>\n",
       "    </tr>\n",
       "    <tr>\n",
       "      <th>FirstPart_ChapterNumber_5</th>\n",
       "      <td>1</td>\n",
       "      <td>5</td>\n",
       "      <td>donde se prosigue la narración de la desgraci...</td>\n",
       "      <td>viendo, pues, que en efecto no podía menearse...</td>\n",
       "    </tr>\n",
       "    <tr>\n",
       "      <th>...</th>\n",
       "      <td>...</td>\n",
       "      <td>...</td>\n",
       "      <td>...</td>\n",
       "      <td>...</td>\n",
       "    </tr>\n",
       "    <tr>\n",
       "      <th>SecondPart_ChapterNumber_70</th>\n",
       "      <td>2</td>\n",
       "      <td>70</td>\n",
       "      <td>que sigue al de sesenta y nueve, y trata de co...</td>\n",
       "      <td>durmió sancho aquella noche en una carriola, ...</td>\n",
       "    </tr>\n",
       "    <tr>\n",
       "      <th>SecondPart_ChapterNumber_71</th>\n",
       "      <td>2</td>\n",
       "      <td>71</td>\n",
       "      <td>de lo que a don quijote le sucedió con su esc...</td>\n",
       "      <td>iba el vencido y asendereado don quijote pensa...</td>\n",
       "    </tr>\n",
       "    <tr>\n",
       "      <th>SecondPart_ChapterNumber_72</th>\n",
       "      <td>2</td>\n",
       "      <td>72</td>\n",
       "      <td>de cómo don quijote y sancho llegaron a su aldea</td>\n",
       "      <td>todo aquel día, esperando la noche, estuviero...</td>\n",
       "    </tr>\n",
       "    <tr>\n",
       "      <th>SecondPart_ChapterNumber_73</th>\n",
       "      <td>2</td>\n",
       "      <td>73</td>\n",
       "      <td>de los agüeros que tuvo don quijote al entrar...</td>\n",
       "      <td>a la entrada del cual, según dice cide hamete...</td>\n",
       "    </tr>\n",
       "    <tr>\n",
       "      <th>SecondPart_ChapterNumber_74</th>\n",
       "      <td>2</td>\n",
       "      <td>74</td>\n",
       "      <td>de cómo don quijote cayó malo, y del testame...</td>\n",
       "      <td>como las cosas humanas no sean eternas, yendo ...</td>\n",
       "    </tr>\n",
       "  </tbody>\n",
       "</table>\n",
       "<p>126 rows × 4 columns</p>\n",
       "</div>"
      ],
      "text/plain": [
       "                            Part ChapterNumber  \\\n",
       "FirstPart_ChapterNumber_1      1             1   \n",
       "FirstPart_ChapterNumber_2      1             2   \n",
       "FirstPart_ChapterNumber_3      1             3   \n",
       "FirstPart_ChapterNumber_4      1             4   \n",
       "FirstPart_ChapterNumber_5      1             5   \n",
       "...                          ...           ...   \n",
       "SecondPart_ChapterNumber_70    2            70   \n",
       "SecondPart_ChapterNumber_71    2            71   \n",
       "SecondPart_ChapterNumber_72    2            72   \n",
       "SecondPart_ChapterNumber_73    2            73   \n",
       "SecondPart_ChapterNumber_74    2            74   \n",
       "\n",
       "                                                                   ChapterName  \\\n",
       "FirstPart_ChapterNumber_1    que trata de la condición y ejercicio del fam...   \n",
       "FirstPart_ChapterNumber_2    que trata de la primera salida que de su tierr...   \n",
       "FirstPart_ChapterNumber_3    donde se cuenta la graciosa manera que tuvo d....   \n",
       "FirstPart_ChapterNumber_4    de lo que le sucedió a nuestro caballero cuan...   \n",
       "FirstPart_ChapterNumber_5    donde se prosigue la narración de la desgraci...   \n",
       "...                                                                        ...   \n",
       "SecondPart_ChapterNumber_70  que sigue al de sesenta y nueve, y trata de co...   \n",
       "SecondPart_ChapterNumber_71  de lo que a don quijote le sucedió con su esc...   \n",
       "SecondPart_ChapterNumber_72  de cómo don quijote y sancho llegaron a su aldea   \n",
       "SecondPart_ChapterNumber_73  de los agüeros que tuvo don quijote al entrar...   \n",
       "SecondPart_ChapterNumber_74  de cómo don quijote cayó malo, y del testame...   \n",
       "\n",
       "                                                                 ChapterCorpus  \n",
       "FirstPart_ChapterNumber_1    en un lugar de la mancha, de cuyo nombre no qu...  \n",
       "FirstPart_ChapterNumber_2    hechas, pues, estas prevenciones, no quiso agu...  \n",
       "FirstPart_ChapterNumber_3    y así, fatigado de este pensamiento, abrevió...  \n",
       "FirstPart_ChapterNumber_4    la del alba sería cuando don quijote salió d...  \n",
       "FirstPart_ChapterNumber_5    viendo, pues, que en efecto no podía menearse...  \n",
       "...                                                                        ...  \n",
       "SecondPart_ChapterNumber_70  durmió sancho aquella noche en una carriola, ...  \n",
       "SecondPart_ChapterNumber_71  iba el vencido y asendereado don quijote pensa...  \n",
       "SecondPart_ChapterNumber_72  todo aquel día, esperando la noche, estuviero...  \n",
       "SecondPart_ChapterNumber_73  a la entrada del cual, según dice cide hamete...  \n",
       "SecondPart_ChapterNumber_74  como las cosas humanas no sean eternas, yendo ...  \n",
       "\n",
       "[126 rows x 4 columns]"
      ]
     },
     "execution_count": 344,
     "metadata": {},
     "output_type": "execute_result"
    }
   ],
   "source": [
    "dataframe_quixote"
   ]
  },
  {
   "cell_type": "markdown",
   "metadata": {},
   "source": [
    "## Study corpus"
   ]
  },
  {
   "cell_type": "code",
   "execution_count": null,
   "metadata": {},
   "outputs": [],
   "source": []
  }
 ],
 "metadata": {
  "kernelspec": {
   "display_name": "Python 3",
   "language": "python",
   "name": "python3"
  },
  "language_info": {
   "codemirror_mode": {
    "name": "ipython",
    "version": 3
   },
   "file_extension": ".py",
   "mimetype": "text/x-python",
   "name": "python",
   "nbconvert_exporter": "python",
   "pygments_lexer": "ipython3",
   "version": "3.8.5"
  }
 },
 "nbformat": 4,
 "nbformat_minor": 4
}
